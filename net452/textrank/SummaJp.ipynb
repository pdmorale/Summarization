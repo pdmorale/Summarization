{
 "cells": [
  {
   "cell_type": "code",
   "execution_count": 1,
   "metadata": {},
   "outputs": [
    {
     "name": "stdout",
     "output_type": "stream",
     "text": [
      "Loading latest local model: ja-1.1\n",
      "\tLoading embeddings ... \n",
      "\tLoading tokenization model ...\n",
      "\tLoading lemmatization model ...\n",
      "\tLoading tagger model ...\n",
      "\tLoading parser model ...\n",
      "Model loading complete.\n",
      "\n",
      "Loading latest local model: ja-1.1\n",
      "\tLoading embeddings ... \n",
      "\tLoading tokenization model ...\n",
      "\tLoading lemmatization model ...\n",
      "\tLoading tagger model ...\n",
      "\tLoading parser model ...\n",
      "Model loading complete.\n",
      "\n"
     ]
    }
   ],
   "source": [
    "import summa"
   ]
  },
  {
   "cell_type": "code",
   "execution_count": 7,
   "metadata": {},
   "outputs": [],
   "source": [
    "from summa.summarizer import summarize"
   ]
  },
  {
   "cell_type": "code",
   "execution_count": 8,
   "metadata": {},
   "outputs": [],
   "source": [
    "file = open(\"HTMLfiles/email04.txt\", \"r\",encoding=\"utf-8_sig\")\n",
    "Body = file.read()"
   ]
  },
  {
   "cell_type": "code",
   "execution_count": 9,
   "metadata": {},
   "outputs": [],
   "source": [
    "Body=Body.replace(\"＿\",\"\")"
   ]
  },
  {
   "cell_type": "code",
   "execution_count": 10,
   "metadata": {},
   "outputs": [
    {
     "name": "stdout",
     "output_type": "stream",
     "text": [
      "経過時間：5.003702640533447\n"
     ]
    }
   ],
   "source": [
    "import time\n",
    "t1 = time.time() \n",
    "summarized =summarize(Body,ratio = 0.3, language=\"japanese\")\n",
    "t2 = time.time()\n",
    " \n",
    "elapsed_time = t2-t1\n",
    "print(f\"経過時間：{elapsed_time}\")"
   ]
  },
  {
   "cell_type": "code",
   "execution_count": 11,
   "metadata": {},
   "outputs": [
    {
     "name": "stdout",
     "output_type": "stream",
     "text": [
      "経過時間：4.76945161819458\n"
     ]
    }
   ],
   "source": [
    "import time\n",
    "from summa import keywords\n",
    "\n",
    "t1 = time.time() \n",
    "keyword = keywords.keywords(Body,ratio=0.8, language=\"japanese\")\n",
    "t2 = time.time()\n",
    " \n",
    "elapsed_time = t2-t1\n",
    "print(f\"経過時間：{elapsed_time}\")"
   ]
  },
  {
   "cell_type": "code",
   "execution_count": 12,
   "metadata": {},
   "outputs": [
    {
     "data": {
      "text/plain": [
       "'7/1にPTSにJoinされました大久保 咲希さんをご紹介させてください。\\n以下、大久保さんからの自己紹介文になります。\\n\\n7/1入社、PTSの大久保と申します。\\n・出身：東京都小平市（親と自分の転勤で名古屋・宝塚・横浜・広島にも住んでいました！）\\n・前職：楽天で楽天市場の広告営業と店舗運営のサポート業務をしておりました。\\n横浜支社→広島支社と異動し、各エリアの食品関連企業様の担当でした。\\n楽天で食品を買うことがあれば、おすすめのお店もお伝えできるかと思うので\\nぜひお気軽に声をかけてください！笑\\nまた、転職前は、半年ほどインドネシアの高校で日本語ALTをしていました。\\n・趣味：旅行（特に東南アジアと離島が好きです）\\n食べること\\nフィルムカメラ\\n新しい趣味も作りたいと考えているので、ぜひ色々とお声がけいただけると嬉しいです。\\n業務も前職とは大きく変わりますが、たくさん勉強・質問をして早くチームに貢献できるよう頑張ります。\\nこれまではずっと支社配属だったため、すべての部署の方が近くにいるというのは初めての環境で、大変うれしく思います。\\n部署関係なく、いろいろな知識を吸収出来ればと思いますので、これからどうぞよろしくお願い致します。\\n'"
      ]
     },
     "execution_count": 12,
     "metadata": {},
     "output_type": "execute_result"
    }
   ],
   "source": [
    "Body"
   ]
  },
  {
   "cell_type": "code",
   "execution_count": 14,
   "metadata": {},
   "outputs": [
    {
     "data": {
      "text/plain": [
       "'横浜\\n宝塚\\n旅行'"
      ]
     },
     "execution_count": 14,
     "metadata": {},
     "output_type": "execute_result"
    }
   ],
   "source": [
    "keyword"
   ]
  },
  {
   "cell_type": "code",
   "execution_count": null,
   "metadata": {},
   "outputs": [],
   "source": [
    "[1,2,3,4][:3]"
   ]
  },
  {
   "cell_type": "code",
   "execution_count": 28,
   "metadata": {},
   "outputs": [],
   "source": [
    "summarized =summarize(Body,ratio = 0.3, language=\"japanese\")"
   ]
  },
  {
   "cell_type": "code",
   "execution_count": 6,
   "metadata": {},
   "outputs": [
    {
     "ename": "NameError",
     "evalue": "name 'keywords' is not defined",
     "output_type": "error",
     "traceback": [
      "\u001b[1;31m---------------------------------------------------------------------------\u001b[0m",
      "\u001b[1;31mNameError\u001b[0m                                 Traceback (most recent call last)",
      "\u001b[1;32m<ipython-input-6-11cebe565d3f>\u001b[0m in \u001b[0;36m<module>\u001b[1;34m\u001b[0m\n\u001b[0;32m      2\u001b[0m \u001b[0mt1\u001b[0m \u001b[1;33m=\u001b[0m \u001b[0mtime\u001b[0m\u001b[1;33m.\u001b[0m\u001b[0mtime\u001b[0m\u001b[1;33m(\u001b[0m\u001b[1;33m)\u001b[0m\u001b[1;33m\u001b[0m\u001b[0m\n\u001b[0;32m      3\u001b[0m \u001b[0msummarized\u001b[0m \u001b[1;33m=\u001b[0m\u001b[0msummarize\u001b[0m\u001b[1;33m(\u001b[0m\u001b[0mBody\u001b[0m\u001b[1;33m,\u001b[0m\u001b[0mratio\u001b[0m \u001b[1;33m=\u001b[0m \u001b[1;36m0.3\u001b[0m\u001b[1;33m)\u001b[0m\u001b[1;33m\u001b[0m\u001b[0m\n\u001b[1;32m----> 4\u001b[1;33m \u001b[0mkeyword\u001b[0m \u001b[1;33m=\u001b[0m \u001b[0mkeywords\u001b[0m\u001b[1;33m.\u001b[0m\u001b[0mkeywords\u001b[0m\u001b[1;33m(\u001b[0m\u001b[0mBody\u001b[0m\u001b[1;33m)\u001b[0m\u001b[1;33m\u001b[0m\u001b[0m\n\u001b[0m\u001b[0;32m      5\u001b[0m \u001b[0mt2\u001b[0m \u001b[1;33m=\u001b[0m \u001b[0mtime\u001b[0m\u001b[1;33m.\u001b[0m\u001b[0mtime\u001b[0m\u001b[1;33m(\u001b[0m\u001b[1;33m)\u001b[0m\u001b[1;33m\u001b[0m\u001b[0m\n\u001b[0;32m      6\u001b[0m \u001b[1;33m\u001b[0m\u001b[0m\n",
      "\u001b[1;31mNameError\u001b[0m: name 'keywords' is not defined"
     ]
    }
   ],
   "source": [
    "import time\n",
    "t1 = time.time() \n",
    "summarized =summarize(Body,ratio = 0.3)\n",
    "keyword = keywords.keywords(Body)\n",
    "t2 = time.time()\n",
    " \n",
    "elapsed_time = t2-t1\n",
    "print(f\"経過時間：{elapsed_time}\")"
   ]
  },
  {
   "cell_type": "code",
   "execution_count": 11,
   "metadata": {},
   "outputs": [
    {
     "data": {
      "text/plain": [
       "['7/1にPTSにJoinされました大久保 咲希さんをご紹介させてください。',\n",
       " '以下、大久保さんからの自己紹介文になります。',\n",
       " '',\n",
       " '7/1入社、PTSの大久保と申します。',\n",
       " '・出身：東京都小平市（親と自分の転勤で名古屋・宝塚・横浜・広島にも住んでいました！）',\n",
       " '・前職：楽天で楽天市場の広告営業と店舗運営のサポート業務をしておりました。',\n",
       " '横浜支社→広島支社と異動し、各エリアの食品関連企業様の担当でした。',\n",
       " '楽天で食品を買うことがあれば、おすすめのお店もお伝えできるかと思うので',\n",
       " 'ぜひお気軽に声をかけてください！笑',\n",
       " 'また、転職前は、半年ほどインドネシアの高校で日本語ALTをしていました。',\n",
       " '・趣味：旅行（特に東南アジアと離島が好きです）',\n",
       " '食べること',\n",
       " 'フィルムカメラ',\n",
       " '新しい趣味も作りたいと考えているので、ぜひ色々とお声がけいただけると嬉しいです。',\n",
       " '業務も前職とは大きく変わりますが、たくさん勉強・質問をして早くチームに貢献できるよう頑張ります。',\n",
       " 'これまではずっと支社配属だったため、すべての部署の方が近くにいるというのは初めての環境で、大変うれしく思います。',\n",
       " '部署関係なく、いろいろな知識を吸収出来ればと思いますので、これからどうぞよろしくお願い致します。',\n",
       " '']"
      ]
     },
     "execution_count": 11,
     "metadata": {},
     "output_type": "execute_result"
    }
   ],
   "source": [
    "Body.split(\"\\n\")"
   ]
  },
  {
   "cell_type": "code",
   "execution_count": 12,
   "metadata": {},
   "outputs": [
    {
     "data": {
      "text/plain": [
       "['[7/1にPTSにJoinされました大久保咲希さんをご紹介させてください。]',\n",
       " '[以下、大久保さんからの自己紹介文になります。]',\n",
       " '[7/1入社、PTSの大久保と申します。]',\n",
       " '[・趣味：旅行（特に東南アジアと離島が好きです）]']"
      ]
     },
     "execution_count": 12,
     "metadata": {},
     "output_type": "execute_result"
    }
   ],
   "source": [
    "summarized"
   ]
  },
  {
   "cell_type": "code",
   "execution_count": 9,
   "metadata": {},
   "outputs": [
    {
     "data": {
      "text/plain": [
       "['7/1にPTSにJoinされました大久保 咲希さんをご紹介させてください。',\n",
       " '以下、大久保さんからの自己紹介文になります。',\n",
       " '7/1入社、PTSの大久保と申します。',\n",
       " 'これまではずっと支社配属だったため、すべての部署の方が近くにいるというのは初めての環境で、大変うれしく思います。']"
      ]
     },
     "execution_count": 9,
     "metadata": {},
     "output_type": "execute_result"
    }
   ],
   "source": [
    "summarize(Body,ratio = 0.3)"
   ]
  },
  {
   "cell_type": "code",
   "execution_count": 3,
   "metadata": {},
   "outputs": [],
   "source": [
    "text = \"プライベートでは、双子（男の子と女の子）がいて日々育児と家事に奮闘しています！趣味は、スポーツが好きで学生時代からバスケやサーフィンをしたり、スキューバダイビングが好きで沖縄に潜りに行っていっていました。\""
   ]
  },
  {
   "cell_type": "code",
   "execution_count": 8,
   "metadata": {},
   "outputs": [
    {
     "name": "stdout",
     "output_type": "stream",
     "text": [
      "[0, 1, 2]\n"
     ]
    }
   ],
   "source": [
    "print([0,1,2])"
   ]
  },
  {
   "cell_type": "code",
   "execution_count": null,
   "metadata": {},
   "outputs": [],
   "source": []
  }
 ],
 "metadata": {
  "kernelspec": {
   "display_name": "Python 3",
   "language": "python",
   "name": "python3"
  },
  "language_info": {
   "codemirror_mode": {
    "name": "ipython",
    "version": 3
   },
   "file_extension": ".py",
   "mimetype": "text/x-python",
   "name": "python",
   "nbconvert_exporter": "python",
   "pygments_lexer": "ipython3",
   "version": "3.6.1"
  }
 },
 "nbformat": 4,
 "nbformat_minor": 2
}
