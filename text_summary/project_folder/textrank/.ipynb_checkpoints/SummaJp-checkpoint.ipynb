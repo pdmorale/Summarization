{
 "cells": [
  {
   "cell_type": "code",
   "execution_count": 1,
   "metadata": {},
   "outputs": [
    {
     "name": "stdout",
     "output_type": "stream",
     "text": [
      "Loading latest local model: ja-1.1\n",
      "\tLoading embeddings ... \n",
      "\tLoading tokenization model ...\n",
      "\tLoading lemmatization model ...\n",
      "\tLoading tagger model ...\n",
      "\tLoading parser model ...\n",
      "Model loading complete.\n",
      "\n",
      "Loading latest local model: ja-1.1\n",
      "\tLoading embeddings ... \n",
      "\tLoading tokenization model ...\n",
      "\tLoading lemmatization model ...\n",
      "\tLoading tagger model ...\n",
      "\tLoading parser model ...\n",
      "Model loading complete.\n",
      "\n"
     ]
    }
   ],
   "source": [
    "import summa"
   ]
  },
  {
   "cell_type": "code",
   "execution_count": 2,
   "metadata": {},
   "outputs": [],
   "source": [
    "from summa.summarizer import summarize"
   ]
  },
  {
   "cell_type": "code",
   "execution_count": 3,
   "metadata": {},
   "outputs": [],
   "source": [
    "file = open(\"HTMLfiles/email04.txt\", \"r\",encoding=\"utf-8_sig\")\n",
    "Body = file.read()"
   ]
  },
  {
   "cell_type": "code",
   "execution_count": 4,
   "metadata": {},
   "outputs": [],
   "source": [
    "Body=Body.replace(\"＿\",\"\")"
   ]
  },
  {
   "cell_type": "code",
   "execution_count": 5,
   "metadata": {},
   "outputs": [
    {
     "name": "stdout",
     "output_type": "stream",
     "text": [
      "経過時間：5.362345457077026\n"
     ]
    }
   ],
   "source": [
    "import time\n",
    "t1 = time.time() \n",
    "summarized =summarize(Body,ratio = 0.3, language=\"japanese\")\n",
    "t2 = time.time()\n",
    " \n",
    "elapsed_time = t2-t1\n",
    "print(f\"経過時間：{elapsed_time}\")"
   ]
  },
  {
   "cell_type": "code",
   "execution_count": 6,
   "metadata": {},
   "outputs": [
    {
     "name": "stdout",
     "output_type": "stream",
     "text": [
      "2\n",
      "{'7/1': ['7/1'], 'PTS': ['PTS'], 'Join': ['Join'], '大久保': ['大久保'], '咲希': ['咲希'], 'さん': ['さん'], 'ご': ['ご'], '紹介': ['紹介'], '以下': ['以下'], 'の': ['の'], '自己': ['自己'], '文': ['文'], 'なる': ['なり'], '入社': ['入社'], '申す': ['申し'], '・': ['・'], '出身': ['出身'], '：': ['：'], '東京都': ['東京都'], '小平市': ['小平市'], '（親': ['（親'], '自分': ['自分'], '転勤': ['転勤'], '名古屋': ['名古屋'], '宝塚': ['宝塚'], '横浜': ['横浜'], '広島': ['広島'], '住む': ['住ん'], '！）': ['！）'], '前職': ['前職'], '楽': ['楽'], '天': ['天'], '楽天市': ['楽天市'], '場': ['場'], '広告': ['広告'], '営業': ['営業'], '店舗': ['店舗'], '運営': ['運営'], 'サポート': ['サポート'], '業務': ['業務'], 'する': ['し'], '支社': ['支社'], '→': ['→'], '異動': ['異動'], '各': ['各'], 'エリア': ['エリア'], '食品': ['食品'], '関連': ['関連'], '企業様': ['企業様'], '担当': ['担当'], '楽天': ['楽天'], '買う': ['買う'], 'こと': ['こと'], 'ある': ['あれ'], 'おすすめ': ['おすすめ'], 'お': ['お'], '店': ['店'], '伝える': ['伝え'], 'か': ['か'], '思う': ['思う', '思い'], 'ぜひ': ['ぜひ'], '気軽': ['気軽'], '声': ['声'], 'かける': ['かけ'], '！笑': ['！笑'], 'また': ['また'], '転職': ['転職'], '前': ['前'], '半年': ['半年'], 'インドネシア': ['インドネシア'], '高校': ['高校'], '日本語': ['日本語'], 'alt': ['ALT'], '趣味': ['趣味'], '旅行': ['旅行'], '（': ['（'], '特に': ['特に'], '東南アジア': ['東南アジア'], '離島': ['離島'], '好き': ['好き'], '食べる': ['食べる'], 'フィルム': ['フィルム'], 'カメラ': ['カメラ'], '新しい': ['新しい'], '作る': ['作り'], '考える': ['考え'], '色々': ['色々'], 'けいただ': ['けいただ'], '嬉しい': ['嬉しいです'], '大きい': ['大きく'], '変わる': ['変わり'], 'たくさん': ['たくさん'], '勉強': ['勉強'], '質問': ['質問'], 'チーム': ['チーム'], '貢献': ['貢献'], '頑張る': ['頑張り'], 'これ': ['これ'], 'ずっと': ['ずっと'], '配属': ['配属'], 'すべて': ['すべて'], '部署': ['部署'], '方': ['方'], '近く': ['近く'], 'に': ['に'], 'いる': ['いる'], 'いう': ['いう'], '初めて': ['初めて'], '環境': ['環境'], '大変': ['大変'], 'うれ': ['うれ'], 'しく': ['しく'], '関係': ['関係'], 'ない': ['なく'], 'いろいろ': ['いろいろ'], '知識': ['知識'], '吸収': ['吸収'], '出来る': ['出来れ'], 'どうぞ': ['どうぞ'], 'よろしく': ['よろしく'], '願い': ['願い'], '致す': ['致し']}\n",
      "3\n",
      "{'横浜': 0.707106749135744, '宝塚': 0.7071067491357439, '旅行': 0.00021290063439496242}\n",
      "combined\n",
      "['横浜', '宝塚', '旅行']\n",
      "経過時間：5.267930746078491\n"
     ]
    }
   ],
   "source": [
    "import time\n",
    "from summa import keywords\n",
    "\n",
    "t1 = time.time() \n",
    "keyword = keywords.keywords(Body,ratio=0.8, language=\"japanese\")\n",
    "t2 = time.time()\n",
    " \n",
    "elapsed_time = t2-t1\n",
    "print(f\"経過時間：{elapsed_time}\")"
   ]
  },
  {
   "cell_type": "code",
   "execution_count": 7,
   "metadata": {},
   "outputs": [
    {
     "data": {
      "text/plain": [
       "'7/1にPTSにJoinされました大久保 咲希さんをご紹介させてください。\\n以下、大久保さんからの自己紹介文になります。\\n\\n7/1入社、PTSの大久保と申します。\\n・出身：東京都小平市（親と自分の転勤で名古屋・宝塚・横浜・広島にも住んでいました！）\\n・前職：楽天で楽天市場の広告営業と店舗運営のサポート業務をしておりました。\\n横浜支社→広島支社と異動し、各エリアの食品関連企業様の担当でした。\\n楽天で食品を買うことがあれば、おすすめのお店もお伝えできるかと思うので\\nぜひお気軽に声をかけてください！笑\\nまた、転職前は、半年ほどインドネシアの高校で日本語ALTをしていました。\\n・趣味：旅行（特に東南アジアと離島が好きです）\\n食べること\\nフィルムカメラ\\n新しい趣味も作りたいと考えているので、ぜひ色々とお声がけいただけると嬉しいです。\\n業務も前職とは大きく変わりますが、たくさん勉強・質問をして早くチームに貢献できるよう頑張ります。\\nこれまではずっと支社配属だったため、すべての部署の方が近くにいるというのは初めての環境で、大変うれしく思います。\\n部署関係なく、いろいろな知識を吸収出来ればと思いますので、これからどうぞよろしくお願い致します。\\n'"
      ]
     },
     "execution_count": 7,
     "metadata": {},
     "output_type": "execute_result"
    }
   ],
   "source": [
    "Body"
   ]
  },
  {
   "cell_type": "code",
   "execution_count": 8,
   "metadata": {},
   "outputs": [
    {
     "data": {
      "text/plain": [
       "'横浜\\n宝塚\\n旅行'"
      ]
     },
     "execution_count": 8,
     "metadata": {},
     "output_type": "execute_result"
    }
   ],
   "source": [
    "keyword"
   ]
  },
  {
   "cell_type": "code",
   "execution_count": null,
   "metadata": {},
   "outputs": [],
   "source": [
    "[1,2,3,4][:3]"
   ]
  },
  {
   "cell_type": "code",
   "execution_count": 28,
   "metadata": {},
   "outputs": [],
   "source": [
    "summarized =summarize(Body,ratio = 0.3, language=\"japanese\")"
   ]
  },
  {
   "cell_type": "code",
   "execution_count": 6,
   "metadata": {},
   "outputs": [
    {
     "ename": "NameError",
     "evalue": "name 'keywords' is not defined",
     "output_type": "error",
     "traceback": [
      "\u001b[1;31m---------------------------------------------------------------------------\u001b[0m",
      "\u001b[1;31mNameError\u001b[0m                                 Traceback (most recent call last)",
      "\u001b[1;32m<ipython-input-6-11cebe565d3f>\u001b[0m in \u001b[0;36m<module>\u001b[1;34m\u001b[0m\n\u001b[0;32m      2\u001b[0m \u001b[0mt1\u001b[0m \u001b[1;33m=\u001b[0m \u001b[0mtime\u001b[0m\u001b[1;33m.\u001b[0m\u001b[0mtime\u001b[0m\u001b[1;33m(\u001b[0m\u001b[1;33m)\u001b[0m\u001b[1;33m\u001b[0m\u001b[0m\n\u001b[0;32m      3\u001b[0m \u001b[0msummarized\u001b[0m \u001b[1;33m=\u001b[0m\u001b[0msummarize\u001b[0m\u001b[1;33m(\u001b[0m\u001b[0mBody\u001b[0m\u001b[1;33m,\u001b[0m\u001b[0mratio\u001b[0m \u001b[1;33m=\u001b[0m \u001b[1;36m0.3\u001b[0m\u001b[1;33m)\u001b[0m\u001b[1;33m\u001b[0m\u001b[0m\n\u001b[1;32m----> 4\u001b[1;33m \u001b[0mkeyword\u001b[0m \u001b[1;33m=\u001b[0m \u001b[0mkeywords\u001b[0m\u001b[1;33m.\u001b[0m\u001b[0mkeywords\u001b[0m\u001b[1;33m(\u001b[0m\u001b[0mBody\u001b[0m\u001b[1;33m)\u001b[0m\u001b[1;33m\u001b[0m\u001b[0m\n\u001b[0m\u001b[0;32m      5\u001b[0m \u001b[0mt2\u001b[0m \u001b[1;33m=\u001b[0m \u001b[0mtime\u001b[0m\u001b[1;33m.\u001b[0m\u001b[0mtime\u001b[0m\u001b[1;33m(\u001b[0m\u001b[1;33m)\u001b[0m\u001b[1;33m\u001b[0m\u001b[0m\n\u001b[0;32m      6\u001b[0m \u001b[1;33m\u001b[0m\u001b[0m\n",
      "\u001b[1;31mNameError\u001b[0m: name 'keywords' is not defined"
     ]
    }
   ],
   "source": [
    "import time\n",
    "t1 = time.time() \n",
    "summarized =summarize(Body,ratio = 0.3)\n",
    "keyword = keywords.keywords(Body)\n",
    "t2 = time.time()\n",
    " \n",
    "elapsed_time = t2-t1\n",
    "print(f\"経過時間：{elapsed_time}\")"
   ]
  },
  {
   "cell_type": "code",
   "execution_count": 11,
   "metadata": {},
   "outputs": [
    {
     "data": {
      "text/plain": [
       "['7/1にPTSにJoinされました大久保 咲希さんをご紹介させてください。',\n",
       " '以下、大久保さんからの自己紹介文になります。',\n",
       " '',\n",
       " '7/1入社、PTSの大久保と申します。',\n",
       " '・出身：東京都小平市（親と自分の転勤で名古屋・宝塚・横浜・広島にも住んでいました！）',\n",
       " '・前職：楽天で楽天市場の広告営業と店舗運営のサポート業務をしておりました。',\n",
       " '横浜支社→広島支社と異動し、各エリアの食品関連企業様の担当でした。',\n",
       " '楽天で食品を買うことがあれば、おすすめのお店もお伝えできるかと思うので',\n",
       " 'ぜひお気軽に声をかけてください！笑',\n",
       " 'また、転職前は、半年ほどインドネシアの高校で日本語ALTをしていました。',\n",
       " '・趣味：旅行（特に東南アジアと離島が好きです）',\n",
       " '食べること',\n",
       " 'フィルムカメラ',\n",
       " '新しい趣味も作りたいと考えているので、ぜひ色々とお声がけいただけると嬉しいです。',\n",
       " '業務も前職とは大きく変わりますが、たくさん勉強・質問をして早くチームに貢献できるよう頑張ります。',\n",
       " 'これまではずっと支社配属だったため、すべての部署の方が近くにいるというのは初めての環境で、大変うれしく思います。',\n",
       " '部署関係なく、いろいろな知識を吸収出来ればと思いますので、これからどうぞよろしくお願い致します。',\n",
       " '']"
      ]
     },
     "execution_count": 11,
     "metadata": {},
     "output_type": "execute_result"
    }
   ],
   "source": [
    "Body.split(\"\\n\")"
   ]
  },
  {
   "cell_type": "code",
   "execution_count": 12,
   "metadata": {},
   "outputs": [
    {
     "data": {
      "text/plain": [
       "['[7/1にPTSにJoinされました大久保咲希さんをご紹介させてください。]',\n",
       " '[以下、大久保さんからの自己紹介文になります。]',\n",
       " '[7/1入社、PTSの大久保と申します。]',\n",
       " '[・趣味：旅行（特に東南アジアと離島が好きです）]']"
      ]
     },
     "execution_count": 12,
     "metadata": {},
     "output_type": "execute_result"
    }
   ],
   "source": [
    "summarized"
   ]
  },
  {
   "cell_type": "code",
   "execution_count": 9,
   "metadata": {},
   "outputs": [
    {
     "data": {
      "text/plain": [
       "['7/1にPTSにJoinされました大久保 咲希さんをご紹介させてください。',\n",
       " '以下、大久保さんからの自己紹介文になります。',\n",
       " '7/1入社、PTSの大久保と申します。',\n",
       " 'これまではずっと支社配属だったため、すべての部署の方が近くにいるというのは初めての環境で、大変うれしく思います。']"
      ]
     },
     "execution_count": 9,
     "metadata": {},
     "output_type": "execute_result"
    }
   ],
   "source": [
    "summarize(Body,ratio = 0.3)"
   ]
  },
  {
   "cell_type": "code",
   "execution_count": 3,
   "metadata": {},
   "outputs": [],
   "source": [
    "text = \"プライベートでは、双子（男の子と女の子）がいて日々育児と家事に奮闘しています！趣味は、スポーツが好きで学生時代からバスケやサーフィンをしたり、スキューバダイビングが好きで沖縄に潜りに行っていっていました。\""
   ]
  },
  {
   "cell_type": "code",
   "execution_count": 8,
   "metadata": {},
   "outputs": [
    {
     "name": "stdout",
     "output_type": "stream",
     "text": [
      "[0, 1, 2]\n"
     ]
    }
   ],
   "source": [
    "print([0,1,2])"
   ]
  },
  {
   "cell_type": "code",
   "execution_count": null,
   "metadata": {},
   "outputs": [],
   "source": []
  }
 ],
 "metadata": {
  "kernelspec": {
   "display_name": "Python 3",
   "language": "python",
   "name": "python3"
  },
  "language_info": {
   "codemirror_mode": {
    "name": "ipython",
    "version": 3
   },
   "file_extension": ".py",
   "mimetype": "text/x-python",
   "name": "python",
   "nbconvert_exporter": "python",
   "pygments_lexer": "ipython3",
   "version": "3.6.1"
  }
 },
 "nbformat": 4,
 "nbformat_minor": 2
}
